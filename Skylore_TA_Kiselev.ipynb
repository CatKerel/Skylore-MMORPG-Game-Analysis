{
 "cells": [
  {
   "cell_type": "markdown",
   "id": "f8c53acd",
   "metadata": {},
   "source": [
    "# Гипотезы и предложения"
   ]
  },
  {
   "cell_type": "markdown",
   "id": "bfe0bb64",
   "metadata": {},
   "source": [
    "1. Большинство создаваемых гильдий не активны.\n",
    "2. Игроки, покупающие премиум товары, создают более активные гильдии, поскольку, инвестируя в игру, пользователь больше ценит вложенные усилия.  \n",
    "3. Если первое предположение верно, стоит ли существенно повысить стоимость создания гильдии, в том числе сделать это премиум товаром (за реальные деньги)?"
   ]
  },
  {
   "cell_type": "markdown",
   "id": "0a191a79",
   "metadata": {},
   "source": [
    "## Гипотеза 1: большинство создаваемых гильдий не активны"
   ]
  },
  {
   "cell_type": "markdown",
   "id": "431d15ff",
   "metadata": {},
   "source": [
    "Сначала определим нестрогие критерии (факторы) активности гильдии. Ниже будет выбран метод распредления гильдий по классам активности согласно этим критериям."
   ]
  },
  {
   "cell_type": "markdown",
   "id": "ab12faf3",
   "metadata": {},
   "source": [
    "### Критерий неактивной гильдии"
   ]
  },
  {
   "cell_type": "markdown",
   "id": "43a2f43b",
   "metadata": {},
   "source": [
    "1. Низкое число игроков\n",
    "2. Низкое число полученной энергии\n",
    "3. Низкое число открытых талантов\n",
    "4. Низкий уровень"
   ]
  },
  {
   "cell_type": "markdown",
   "id": "310ea19b",
   "metadata": {},
   "source": [
    "### Критерий активной гильдии"
   ]
  },
  {
   "cell_type": "markdown",
   "id": "93c57412",
   "metadata": {},
   "source": [
    "1. Выское число полученной энергии\n",
    "2. Открытые таланты\n",
    "3. Высокий уровень\n",
    "4. Выполненые миссии\n",
    "5. Участие в войне гильдий"
   ]
  },
  {
   "cell_type": "markdown",
   "id": "882b7d1a",
   "metadata": {},
   "source": [
    "## Шаг 0: Загрузка и предобработка данных"
   ]
  },
  {
   "cell_type": "markdown",
   "id": "1110b8cd",
   "metadata": {},
   "source": [
    "Загрузим датасеты и обработаем их"
   ]
  },
  {
   "cell_type": "code",
   "execution_count": 2,
   "id": "bb5d05b3",
   "metadata": {},
   "outputs": [],
   "source": [
    "import pandas as pd\n",
    "import numpy as np\n",
    "import matplotlib.pyplot as plt\n",
    "from sklearn.cluster import KMeans\n",
    "from sklearn.preprocessing import MinMaxScaler\n",
    "from statsmodels.stats.proportion import proportions_ztest\n",
    "from statsmodels.stats.weightstats import ttest_ind\n",
    "from scipy.stats import mannwhitneyu"
   ]
  },
  {
   "cell_type": "markdown",
   "id": "f04a5d56",
   "metadata": {},
   "source": [
    "### Загрузим guild_data.csv"
   ]
  },
  {
   "cell_type": "code",
   "execution_count": 3,
   "id": "42a16310",
   "metadata": {},
   "outputs": [
    {
     "data": {
      "text/html": [
       "<div>\n",
       "<style scoped>\n",
       "    .dataframe tbody tr th:only-of-type {\n",
       "        vertical-align: middle;\n",
       "    }\n",
       "\n",
       "    .dataframe tbody tr th {\n",
       "        vertical-align: top;\n",
       "    }\n",
       "\n",
       "    .dataframe thead th {\n",
       "        text-align: right;\n",
       "    }\n",
       "</style>\n",
       "<table border=\"1\" class=\"dataframe\">\n",
       "  <thead>\n",
       "    <tr style=\"text-align: right;\">\n",
       "      <th></th>\n",
       "      <th>datetime</th>\n",
       "      <th>creator_character_id</th>\n",
       "      <th>guild_id</th>\n",
       "      <th>n_added_characters</th>\n",
       "      <th>n_removed_characters</th>\n",
       "      <th>n_talents</th>\n",
       "      <th>level</th>\n",
       "      <th>n_missions_completed</th>\n",
       "      <th>n_times_flag_turned_on</th>\n",
       "      <th>mean_place</th>\n",
       "      <th>mean_rating</th>\n",
       "      <th>n_seasons</th>\n",
       "    </tr>\n",
       "  </thead>\n",
       "  <tbody>\n",
       "    <tr>\n",
       "      <th>0</th>\n",
       "      <td>2022-12-12 23:13:42</td>\n",
       "      <td>15092203</td>\n",
       "      <td>78698</td>\n",
       "      <td>1</td>\n",
       "      <td>1.0</td>\n",
       "      <td>NaN</td>\n",
       "      <td>NaN</td>\n",
       "      <td>NaN</td>\n",
       "      <td>NaN</td>\n",
       "      <td>NaN</td>\n",
       "      <td>NaN</td>\n",
       "      <td>NaN</td>\n",
       "    </tr>\n",
       "    <tr>\n",
       "      <th>1</th>\n",
       "      <td>2022-12-12 22:29:09</td>\n",
       "      <td>15961764</td>\n",
       "      <td>78604</td>\n",
       "      <td>2</td>\n",
       "      <td>2.0</td>\n",
       "      <td>NaN</td>\n",
       "      <td>NaN</td>\n",
       "      <td>NaN</td>\n",
       "      <td>NaN</td>\n",
       "      <td>NaN</td>\n",
       "      <td>NaN</td>\n",
       "      <td>NaN</td>\n",
       "    </tr>\n",
       "    <tr>\n",
       "      <th>2</th>\n",
       "      <td>2022-12-12 21:01:53</td>\n",
       "      <td>16187808</td>\n",
       "      <td>78510</td>\n",
       "      <td>27</td>\n",
       "      <td>19.0</td>\n",
       "      <td>9.0</td>\n",
       "      <td>2.0</td>\n",
       "      <td>171.0</td>\n",
       "      <td>NaN</td>\n",
       "      <td>NaN</td>\n",
       "      <td>NaN</td>\n",
       "      <td>NaN</td>\n",
       "    </tr>\n",
       "    <tr>\n",
       "      <th>3</th>\n",
       "      <td>2022-12-12 00:16:52</td>\n",
       "      <td>21618959</td>\n",
       "      <td>77899</td>\n",
       "      <td>42</td>\n",
       "      <td>35.0</td>\n",
       "      <td>12.0</td>\n",
       "      <td>3.0</td>\n",
       "      <td>171.0</td>\n",
       "      <td>NaN</td>\n",
       "      <td>NaN</td>\n",
       "      <td>NaN</td>\n",
       "      <td>NaN</td>\n",
       "    </tr>\n",
       "    <tr>\n",
       "      <th>4</th>\n",
       "      <td>2022-12-12 22:13:50</td>\n",
       "      <td>23341705</td>\n",
       "      <td>78557</td>\n",
       "      <td>6</td>\n",
       "      <td>6.0</td>\n",
       "      <td>4.0</td>\n",
       "      <td>2.0</td>\n",
       "      <td>156.0</td>\n",
       "      <td>NaN</td>\n",
       "      <td>NaN</td>\n",
       "      <td>NaN</td>\n",
       "      <td>NaN</td>\n",
       "    </tr>\n",
       "  </tbody>\n",
       "</table>\n",
       "</div>"
      ],
      "text/plain": [
       "              datetime  creator_character_id  guild_id  n_added_characters  \\\n",
       "0  2022-12-12 23:13:42              15092203     78698                   1   \n",
       "1  2022-12-12 22:29:09              15961764     78604                   2   \n",
       "2  2022-12-12 21:01:53              16187808     78510                  27   \n",
       "3  2022-12-12 00:16:52              21618959     77899                  42   \n",
       "4  2022-12-12 22:13:50              23341705     78557                   6   \n",
       "\n",
       "   n_removed_characters  n_talents  level  n_missions_completed  \\\n",
       "0                   1.0        NaN    NaN                   NaN   \n",
       "1                   2.0        NaN    NaN                   NaN   \n",
       "2                  19.0        9.0    2.0                 171.0   \n",
       "3                  35.0       12.0    3.0                 171.0   \n",
       "4                   6.0        4.0    2.0                 156.0   \n",
       "\n",
       "   n_times_flag_turned_on  mean_place  mean_rating  n_seasons  \n",
       "0                     NaN         NaN          NaN        NaN  \n",
       "1                     NaN         NaN          NaN        NaN  \n",
       "2                     NaN         NaN          NaN        NaN  \n",
       "3                     NaN         NaN          NaN        NaN  \n",
       "4                     NaN         NaN          NaN        NaN  "
      ]
     },
     "execution_count": 3,
     "metadata": {},
     "output_type": "execute_result"
    }
   ],
   "source": [
    "guild_data = pd.read_csv('guild_data.csv')\n",
    "guild_data.head()"
   ]
  },
  {
   "cell_type": "markdown",
   "id": "28ebef90",
   "metadata": {},
   "source": [
    "Посмотрим на типы данных в датафрейме"
   ]
  },
  {
   "cell_type": "code",
   "execution_count": 4,
   "id": "ab7f58d2",
   "metadata": {},
   "outputs": [
    {
     "name": "stdout",
     "output_type": "stream",
     "text": [
      "<class 'pandas.core.frame.DataFrame'>\n",
      "RangeIndex: 965 entries, 0 to 964\n",
      "Data columns (total 12 columns):\n",
      " #   Column                  Non-Null Count  Dtype  \n",
      "---  ------                  --------------  -----  \n",
      " 0   datetime                965 non-null    object \n",
      " 1   creator_character_id    965 non-null    int64  \n",
      " 2   guild_id                965 non-null    int64  \n",
      " 3   n_added_characters      965 non-null    int64  \n",
      " 4   n_removed_characters    866 non-null    float64\n",
      " 5   n_talents               672 non-null    float64\n",
      " 6   level                   572 non-null    float64\n",
      " 7   n_missions_completed    895 non-null    float64\n",
      " 8   n_times_flag_turned_on  81 non-null     float64\n",
      " 9   mean_place              59 non-null     float64\n",
      " 10  mean_rating             59 non-null     float64\n",
      " 11  n_seasons               59 non-null     float64\n",
      "dtypes: float64(8), int64(3), object(1)\n",
      "memory usage: 90.6+ KB\n"
     ]
    }
   ],
   "source": [
    "guild_data.info()"
   ]
  },
  {
   "cell_type": "markdown",
   "id": "382987dd",
   "metadata": {},
   "source": [
    "Заполним пропуски и исправим типы данных на целочисленные.    \n",
    "Если уровень гильдии не менялся, то он равен 1.   \n",
    "Остальные значения должны быть равны 0.   "
   ]
  },
  {
   "cell_type": "code",
   "execution_count": 5,
   "id": "34ef0830",
   "metadata": {},
   "outputs": [
    {
     "data": {
      "text/html": [
       "<div>\n",
       "<style scoped>\n",
       "    .dataframe tbody tr th:only-of-type {\n",
       "        vertical-align: middle;\n",
       "    }\n",
       "\n",
       "    .dataframe tbody tr th {\n",
       "        vertical-align: top;\n",
       "    }\n",
       "\n",
       "    .dataframe thead th {\n",
       "        text-align: right;\n",
       "    }\n",
       "</style>\n",
       "<table border=\"1\" class=\"dataframe\">\n",
       "  <thead>\n",
       "    <tr style=\"text-align: right;\">\n",
       "      <th></th>\n",
       "      <th>creator_character_id</th>\n",
       "      <th>guild_id</th>\n",
       "      <th>n_added_characters</th>\n",
       "      <th>n_removed_characters</th>\n",
       "      <th>n_talents</th>\n",
       "      <th>level</th>\n",
       "      <th>n_missions_completed</th>\n",
       "      <th>n_times_flag_turned_on</th>\n",
       "      <th>mean_place</th>\n",
       "      <th>mean_rating</th>\n",
       "      <th>n_seasons</th>\n",
       "    </tr>\n",
       "  </thead>\n",
       "  <tbody>\n",
       "    <tr>\n",
       "      <th>count</th>\n",
       "      <td>9.650000e+02</td>\n",
       "      <td>965.000000</td>\n",
       "      <td>965.000000</td>\n",
       "      <td>866.000000</td>\n",
       "      <td>672.000000</td>\n",
       "      <td>572.000000</td>\n",
       "      <td>895.000000</td>\n",
       "      <td>81.000000</td>\n",
       "      <td>59.000000</td>\n",
       "      <td>59.000000</td>\n",
       "      <td>59.000000</td>\n",
       "    </tr>\n",
       "    <tr>\n",
       "      <th>mean</th>\n",
       "      <td>2.323599e+07</td>\n",
       "      <td>72964.000000</td>\n",
       "      <td>32.888083</td>\n",
       "      <td>31.047344</td>\n",
       "      <td>15.422619</td>\n",
       "      <td>3.097902</td>\n",
       "      <td>137.645810</td>\n",
       "      <td>1.839506</td>\n",
       "      <td>15.024294</td>\n",
       "      <td>475.078814</td>\n",
       "      <td>1.508475</td>\n",
       "    </tr>\n",
       "    <tr>\n",
       "      <th>std</th>\n",
       "      <td>3.926890e+06</td>\n",
       "      <td>13099.642839</td>\n",
       "      <td>36.893785</td>\n",
       "      <td>34.651878</td>\n",
       "      <td>15.254326</td>\n",
       "      <td>1.176624</td>\n",
       "      <td>65.121816</td>\n",
       "      <td>1.427032</td>\n",
       "      <td>7.262593</td>\n",
       "      <td>52.528824</td>\n",
       "      <td>0.989129</td>\n",
       "    </tr>\n",
       "    <tr>\n",
       "      <th>min</th>\n",
       "      <td>1.063135e+07</td>\n",
       "      <td>50310.000000</td>\n",
       "      <td>1.000000</td>\n",
       "      <td>1.000000</td>\n",
       "      <td>1.000000</td>\n",
       "      <td>2.000000</td>\n",
       "      <td>1.000000</td>\n",
       "      <td>1.000000</td>\n",
       "      <td>2.500000</td>\n",
       "      <td>320.000000</td>\n",
       "      <td>1.000000</td>\n",
       "    </tr>\n",
       "    <tr>\n",
       "      <th>25%</th>\n",
       "      <td>2.114097e+07</td>\n",
       "      <td>61637.000000</td>\n",
       "      <td>4.000000</td>\n",
       "      <td>5.000000</td>\n",
       "      <td>6.000000</td>\n",
       "      <td>2.000000</td>\n",
       "      <td>86.000000</td>\n",
       "      <td>1.000000</td>\n",
       "      <td>10.000000</td>\n",
       "      <td>445.250000</td>\n",
       "      <td>1.000000</td>\n",
       "    </tr>\n",
       "    <tr>\n",
       "      <th>50%</th>\n",
       "      <td>2.395866e+07</td>\n",
       "      <td>72964.000000</td>\n",
       "      <td>20.000000</td>\n",
       "      <td>19.000000</td>\n",
       "      <td>11.000000</td>\n",
       "      <td>3.000000</td>\n",
       "      <td>169.000000</td>\n",
       "      <td>1.000000</td>\n",
       "      <td>14.000000</td>\n",
       "      <td>477.000000</td>\n",
       "      <td>1.000000</td>\n",
       "    </tr>\n",
       "    <tr>\n",
       "      <th>75%</th>\n",
       "      <td>2.631834e+07</td>\n",
       "      <td>84291.000000</td>\n",
       "      <td>49.000000</td>\n",
       "      <td>47.000000</td>\n",
       "      <td>20.000000</td>\n",
       "      <td>4.000000</td>\n",
       "      <td>171.000000</td>\n",
       "      <td>2.000000</td>\n",
       "      <td>18.500000</td>\n",
       "      <td>500.000000</td>\n",
       "      <td>2.000000</td>\n",
       "    </tr>\n",
       "    <tr>\n",
       "      <th>max</th>\n",
       "      <td>2.909053e+07</td>\n",
       "      <td>95618.000000</td>\n",
       "      <td>283.000000</td>\n",
       "      <td>265.000000</td>\n",
       "      <td>109.000000</td>\n",
       "      <td>8.000000</td>\n",
       "      <td>279.000000</td>\n",
       "      <td>8.000000</td>\n",
       "      <td>35.000000</td>\n",
       "      <td>604.000000</td>\n",
       "      <td>5.000000</td>\n",
       "    </tr>\n",
       "  </tbody>\n",
       "</table>\n",
       "</div>"
      ],
      "text/plain": [
       "       creator_character_id      guild_id  n_added_characters  \\\n",
       "count          9.650000e+02    965.000000          965.000000   \n",
       "mean           2.323599e+07  72964.000000           32.888083   \n",
       "std            3.926890e+06  13099.642839           36.893785   \n",
       "min            1.063135e+07  50310.000000            1.000000   \n",
       "25%            2.114097e+07  61637.000000            4.000000   \n",
       "50%            2.395866e+07  72964.000000           20.000000   \n",
       "75%            2.631834e+07  84291.000000           49.000000   \n",
       "max            2.909053e+07  95618.000000          283.000000   \n",
       "\n",
       "       n_removed_characters   n_talents       level  n_missions_completed  \\\n",
       "count            866.000000  672.000000  572.000000            895.000000   \n",
       "mean              31.047344   15.422619    3.097902            137.645810   \n",
       "std               34.651878   15.254326    1.176624             65.121816   \n",
       "min                1.000000    1.000000    2.000000              1.000000   \n",
       "25%                5.000000    6.000000    2.000000             86.000000   \n",
       "50%               19.000000   11.000000    3.000000            169.000000   \n",
       "75%               47.000000   20.000000    4.000000            171.000000   \n",
       "max              265.000000  109.000000    8.000000            279.000000   \n",
       "\n",
       "       n_times_flag_turned_on  mean_place  mean_rating  n_seasons  \n",
       "count               81.000000   59.000000    59.000000  59.000000  \n",
       "mean                 1.839506   15.024294   475.078814   1.508475  \n",
       "std                  1.427032    7.262593    52.528824   0.989129  \n",
       "min                  1.000000    2.500000   320.000000   1.000000  \n",
       "25%                  1.000000   10.000000   445.250000   1.000000  \n",
       "50%                  1.000000   14.000000   477.000000   1.000000  \n",
       "75%                  2.000000   18.500000   500.000000   2.000000  \n",
       "max                  8.000000   35.000000   604.000000   5.000000  "
      ]
     },
     "execution_count": 5,
     "metadata": {},
     "output_type": "execute_result"
    }
   ],
   "source": [
    "guild_data.describe()"
   ]
  },
  {
   "cell_type": "code",
   "execution_count": 6,
   "id": "7f93cbd9",
   "metadata": {},
   "outputs": [],
   "source": [
    "guild_data['n_removed_characters'].fillna(0, inplace=True)\n",
    "guild_data['n_talents'].fillna(0, inplace=True)\n",
    "guild_data['level'].fillna(1, inplace=True)\n",
    "guild_data['n_missions_completed'].fillna(0, inplace=True)\n",
    "guild_data['n_times_flag_turned_on'].fillna(0, inplace=True)\n",
    "guild_data['n_seasons'].fillna(0, inplace=True)\n",
    "\n",
    "#guild_data['mean_place'].fillna(0, inplace=True)\n",
    "guild_data['mean_rating'].fillna(0, inplace=True)"
   ]
  },
  {
   "cell_type": "code",
   "execution_count": 7,
   "id": "0ddcb597",
   "metadata": {
    "scrolled": true
   },
   "outputs": [],
   "source": [
    "guild_data[['n_removed_characters', 'n_talents', 'level', \\\n",
    "            'n_missions_completed', 'n_times_flag_turned_on', 'n_seasons']] = \\\n",
    "guild_data[['n_removed_characters', 'n_talents', 'level', \\\n",
    "            'n_missions_completed', 'n_times_flag_turned_on', 'n_seasons']].astype('int64', False)"
   ]
  },
  {
   "cell_type": "markdown",
   "id": "3c87100b",
   "metadata": {},
   "source": [
    "Добавим новую колонку -- текущее количество персонажей"
   ]
  },
  {
   "cell_type": "code",
   "execution_count": 8,
   "id": "2c9315c0",
   "metadata": {
    "scrolled": true
   },
   "outputs": [],
   "source": [
    "guild_data['n_characters'] = guild_data['n_added_characters'] - guild_data['n_removed_characters']"
   ]
  },
  {
   "cell_type": "markdown",
   "id": "07c755fd",
   "metadata": {},
   "source": [
    "Теперь мы можем узнать число гильдий без персонажей."
   ]
  },
  {
   "cell_type": "code",
   "execution_count": 9,
   "id": "793e82cc",
   "metadata": {},
   "outputs": [
    {
     "data": {
      "text/plain": [
       "219"
      ]
     },
     "execution_count": 9,
     "metadata": {},
     "output_type": "execute_result"
    }
   ],
   "source": [
    "guild_data[guild_data['n_characters'] == 0].shape[0]"
   ]
  },
  {
   "cell_type": "markdown",
   "id": "aa509e9e",
   "metadata": {},
   "source": [
    "### Загрузим energy.csv"
   ]
  },
  {
   "cell_type": "code",
   "execution_count": 10,
   "id": "a1e4188b",
   "metadata": {
    "scrolled": true
   },
   "outputs": [
    {
     "data": {
      "text/html": [
       "<div>\n",
       "<style scoped>\n",
       "    .dataframe tbody tr th:only-of-type {\n",
       "        vertical-align: middle;\n",
       "    }\n",
       "\n",
       "    .dataframe tbody tr th {\n",
       "        vertical-align: top;\n",
       "    }\n",
       "\n",
       "    .dataframe thead th {\n",
       "        text-align: right;\n",
       "    }\n",
       "</style>\n",
       "<table border=\"1\" class=\"dataframe\">\n",
       "  <thead>\n",
       "    <tr style=\"text-align: right;\">\n",
       "      <th></th>\n",
       "      <th>energy_delta</th>\n",
       "      <th>context_type</th>\n",
       "      <th>guild_id</th>\n",
       "    </tr>\n",
       "  </thead>\n",
       "  <tbody>\n",
       "    <tr>\n",
       "      <th>0</th>\n",
       "      <td>1148686</td>\n",
       "      <td>GuildMissionRewardContext</td>\n",
       "      <td>90166</td>\n",
       "    </tr>\n",
       "    <tr>\n",
       "      <th>1</th>\n",
       "      <td>1018116</td>\n",
       "      <td>GuildMissionRewardContext</td>\n",
       "      <td>81283</td>\n",
       "    </tr>\n",
       "    <tr>\n",
       "      <th>2</th>\n",
       "      <td>907440</td>\n",
       "      <td>GuildMissionRewardContext</td>\n",
       "      <td>79262</td>\n",
       "    </tr>\n",
       "    <tr>\n",
       "      <th>3</th>\n",
       "      <td>889109</td>\n",
       "      <td>GuildMissionRewardContext</td>\n",
       "      <td>84667</td>\n",
       "    </tr>\n",
       "    <tr>\n",
       "      <th>4</th>\n",
       "      <td>858954</td>\n",
       "      <td>GuildMissionRewardContext</td>\n",
       "      <td>77241</td>\n",
       "    </tr>\n",
       "  </tbody>\n",
       "</table>\n",
       "</div>"
      ],
      "text/plain": [
       "   energy_delta               context_type  guild_id\n",
       "0       1148686  GuildMissionRewardContext     90166\n",
       "1       1018116  GuildMissionRewardContext     81283\n",
       "2        907440  GuildMissionRewardContext     79262\n",
       "3        889109  GuildMissionRewardContext     84667\n",
       "4        858954  GuildMissionRewardContext     77241"
      ]
     },
     "execution_count": 10,
     "metadata": {},
     "output_type": "execute_result"
    }
   ],
   "source": [
    "energy = pd.read_csv('energy.csv')\n",
    "energy.head()"
   ]
  },
  {
   "cell_type": "code",
   "execution_count": 31,
   "id": "e1dc8a73",
   "metadata": {},
   "outputs": [
    {
     "data": {
      "text/plain": [
       "array(['GuildMissionRewardContext', 'CompleteGuildRaidMatchContext',\n",
       "       'ConvertKnowledgeToGuildEnergyContext'], dtype=object)"
      ]
     },
     "execution_count": 31,
     "metadata": {},
     "output_type": "execute_result"
    }
   ],
   "source": [
    "energy.context_type.unique()"
   ]
  },
  {
   "cell_type": "markdown",
   "id": "63f36a5d",
   "metadata": {},
   "source": [
    "Посмотрим на количество гильдий"
   ]
  },
  {
   "cell_type": "code",
   "execution_count": 11,
   "id": "3f2c188a",
   "metadata": {},
   "outputs": [
    {
     "data": {
      "text/plain": [
       "841"
      ]
     },
     "execution_count": 11,
     "metadata": {},
     "output_type": "execute_result"
    }
   ],
   "source": [
    "energy['guild_id'].nunique()"
   ]
  },
  {
   "cell_type": "markdown",
   "id": "214ee6d2",
   "metadata": {},
   "source": [
    "Число гильдий здесь меньше, чем в первом файле. Возможно, что часть гильдий не заработала никакой энергии."
   ]
  },
  {
   "cell_type": "code",
   "execution_count": 12,
   "id": "aa21027d",
   "metadata": {},
   "outputs": [
    {
     "data": {
      "text/plain": [
       "GuildMissionRewardContext               841\n",
       "ConvertKnowledgeToGuildEnergyContext     77\n",
       "CompleteGuildRaidMatchContext            53\n",
       "Name: context_type, dtype: int64"
      ]
     },
     "execution_count": 12,
     "metadata": {},
     "output_type": "execute_result"
    }
   ],
   "source": [
    "energy['context_type'].value_counts()"
   ]
  },
  {
   "cell_type": "markdown",
   "id": "7c1b9bad",
   "metadata": {},
   "source": [
    "Сгруппируем данные по гильдиям, чтобы получить общее кол-во энергии, полученное каждой гильдией."
   ]
  },
  {
   "cell_type": "code",
   "execution_count": 13,
   "id": "3953d984",
   "metadata": {},
   "outputs": [
    {
     "name": "stdout",
     "output_type": "stream",
     "text": [
      "(841, 1)\n"
     ]
    },
    {
     "data": {
      "text/html": [
       "<div>\n",
       "<style scoped>\n",
       "    .dataframe tbody tr th:only-of-type {\n",
       "        vertical-align: middle;\n",
       "    }\n",
       "\n",
       "    .dataframe tbody tr th {\n",
       "        vertical-align: top;\n",
       "    }\n",
       "\n",
       "    .dataframe thead th {\n",
       "        text-align: right;\n",
       "    }\n",
       "</style>\n",
       "<table border=\"1\" class=\"dataframe\">\n",
       "  <thead>\n",
       "    <tr style=\"text-align: right;\">\n",
       "      <th></th>\n",
       "      <th>energy_delta</th>\n",
       "    </tr>\n",
       "    <tr>\n",
       "      <th>guild_id</th>\n",
       "      <th></th>\n",
       "    </tr>\n",
       "  </thead>\n",
       "  <tbody>\n",
       "    <tr>\n",
       "      <th>50310</th>\n",
       "      <td>1960</td>\n",
       "    </tr>\n",
       "    <tr>\n",
       "      <th>50357</th>\n",
       "      <td>94280</td>\n",
       "    </tr>\n",
       "    <tr>\n",
       "      <th>50404</th>\n",
       "      <td>24680</td>\n",
       "    </tr>\n",
       "    <tr>\n",
       "      <th>50451</th>\n",
       "      <td>6440</td>\n",
       "    </tr>\n",
       "    <tr>\n",
       "      <th>50545</th>\n",
       "      <td>27060</td>\n",
       "    </tr>\n",
       "  </tbody>\n",
       "</table>\n",
       "</div>"
      ],
      "text/plain": [
       "          energy_delta\n",
       "guild_id              \n",
       "50310             1960\n",
       "50357            94280\n",
       "50404            24680\n",
       "50451             6440\n",
       "50545            27060"
      ]
     },
     "execution_count": 13,
     "metadata": {},
     "output_type": "execute_result"
    }
   ],
   "source": [
    "energy_by_guild = energy.groupby('guild_id').agg({'energy_delta': 'sum'})\n",
    "print(energy_by_guild.shape)\n",
    "energy_by_guild.head()"
   ]
  },
  {
   "cell_type": "markdown",
   "id": "5bef054c",
   "metadata": {},
   "source": [
    "Объединим данные в один датафрейм."
   ]
  },
  {
   "cell_type": "code",
   "execution_count": 14,
   "id": "0bb1c690",
   "metadata": {},
   "outputs": [],
   "source": [
    "guild_data = guild_data.merge(energy_by_guild, how='left', on='guild_id')\n",
    "guild_data.energy_delta.fillna(0, inplace=True)"
   ]
  },
  {
   "cell_type": "markdown",
   "id": "7702bb4e",
   "metadata": {},
   "source": [
    "Посмотрим на гильдии, не заработавшие никакой энергии."
   ]
  },
  {
   "cell_type": "code",
   "execution_count": 15,
   "id": "ed948297",
   "metadata": {
    "scrolled": true
   },
   "outputs": [
    {
     "data": {
      "text/html": [
       "<div>\n",
       "<style scoped>\n",
       "    .dataframe tbody tr th:only-of-type {\n",
       "        vertical-align: middle;\n",
       "    }\n",
       "\n",
       "    .dataframe tbody tr th {\n",
       "        vertical-align: top;\n",
       "    }\n",
       "\n",
       "    .dataframe thead th {\n",
       "        text-align: right;\n",
       "    }\n",
       "</style>\n",
       "<table border=\"1\" class=\"dataframe\">\n",
       "  <thead>\n",
       "    <tr style=\"text-align: right;\">\n",
       "      <th></th>\n",
       "      <th>creator_character_id</th>\n",
       "      <th>guild_id</th>\n",
       "      <th>n_added_characters</th>\n",
       "      <th>n_removed_characters</th>\n",
       "      <th>n_talents</th>\n",
       "      <th>level</th>\n",
       "      <th>n_missions_completed</th>\n",
       "      <th>n_times_flag_turned_on</th>\n",
       "      <th>mean_place</th>\n",
       "      <th>mean_rating</th>\n",
       "      <th>n_seasons</th>\n",
       "      <th>n_characters</th>\n",
       "      <th>energy_delta</th>\n",
       "    </tr>\n",
       "  </thead>\n",
       "  <tbody>\n",
       "    <tr>\n",
       "      <th>count</th>\n",
       "      <td>1.240000e+02</td>\n",
       "      <td>124.000000</td>\n",
       "      <td>124.000000</td>\n",
       "      <td>124.000000</td>\n",
       "      <td>124.0</td>\n",
       "      <td>124.0</td>\n",
       "      <td>124.000000</td>\n",
       "      <td>124.0</td>\n",
       "      <td>0.0</td>\n",
       "      <td>124.0</td>\n",
       "      <td>124.0</td>\n",
       "      <td>124.000000</td>\n",
       "      <td>124.0</td>\n",
       "    </tr>\n",
       "    <tr>\n",
       "      <th>mean</th>\n",
       "      <td>2.214774e+07</td>\n",
       "      <td>73965.024194</td>\n",
       "      <td>2.403226</td>\n",
       "      <td>2.088710</td>\n",
       "      <td>0.0</td>\n",
       "      <td>1.0</td>\n",
       "      <td>23.782258</td>\n",
       "      <td>0.0</td>\n",
       "      <td>NaN</td>\n",
       "      <td>0.0</td>\n",
       "      <td>0.0</td>\n",
       "      <td>0.314516</td>\n",
       "      <td>0.0</td>\n",
       "    </tr>\n",
       "    <tr>\n",
       "      <th>std</th>\n",
       "      <td>4.775135e+06</td>\n",
       "      <td>13603.192703</td>\n",
       "      <td>3.416648</td>\n",
       "      <td>3.549905</td>\n",
       "      <td>0.0</td>\n",
       "      <td>0.0</td>\n",
       "      <td>37.574979</td>\n",
       "      <td>0.0</td>\n",
       "      <td>NaN</td>\n",
       "      <td>0.0</td>\n",
       "      <td>0.0</td>\n",
       "      <td>0.616401</td>\n",
       "      <td>0.0</td>\n",
       "    </tr>\n",
       "    <tr>\n",
       "      <th>min</th>\n",
       "      <td>1.094399e+07</td>\n",
       "      <td>50498.000000</td>\n",
       "      <td>1.000000</td>\n",
       "      <td>0.000000</td>\n",
       "      <td>0.0</td>\n",
       "      <td>1.0</td>\n",
       "      <td>0.000000</td>\n",
       "      <td>0.0</td>\n",
       "      <td>NaN</td>\n",
       "      <td>0.0</td>\n",
       "      <td>0.0</td>\n",
       "      <td>0.000000</td>\n",
       "      <td>0.0</td>\n",
       "    </tr>\n",
       "    <tr>\n",
       "      <th>25%</th>\n",
       "      <td>1.876538e+07</td>\n",
       "      <td>61190.500000</td>\n",
       "      <td>1.000000</td>\n",
       "      <td>0.750000</td>\n",
       "      <td>0.0</td>\n",
       "      <td>1.0</td>\n",
       "      <td>0.000000</td>\n",
       "      <td>0.0</td>\n",
       "      <td>NaN</td>\n",
       "      <td>0.0</td>\n",
       "      <td>0.0</td>\n",
       "      <td>0.000000</td>\n",
       "      <td>0.0</td>\n",
       "    </tr>\n",
       "    <tr>\n",
       "      <th>50%</th>\n",
       "      <td>2.230980e+07</td>\n",
       "      <td>75596.000000</td>\n",
       "      <td>1.000000</td>\n",
       "      <td>1.000000</td>\n",
       "      <td>0.0</td>\n",
       "      <td>1.0</td>\n",
       "      <td>0.000000</td>\n",
       "      <td>0.0</td>\n",
       "      <td>NaN</td>\n",
       "      <td>0.0</td>\n",
       "      <td>0.0</td>\n",
       "      <td>0.000000</td>\n",
       "      <td>0.0</td>\n",
       "    </tr>\n",
       "    <tr>\n",
       "      <th>75%</th>\n",
       "      <td>2.630366e+07</td>\n",
       "      <td>85125.250000</td>\n",
       "      <td>2.000000</td>\n",
       "      <td>2.000000</td>\n",
       "      <td>0.0</td>\n",
       "      <td>1.0</td>\n",
       "      <td>85.000000</td>\n",
       "      <td>0.0</td>\n",
       "      <td>NaN</td>\n",
       "      <td>0.0</td>\n",
       "      <td>0.0</td>\n",
       "      <td>1.000000</td>\n",
       "      <td>0.0</td>\n",
       "    </tr>\n",
       "    <tr>\n",
       "      <th>max</th>\n",
       "      <td>2.889549e+07</td>\n",
       "      <td>95430.000000</td>\n",
       "      <td>17.000000</td>\n",
       "      <td>17.000000</td>\n",
       "      <td>0.0</td>\n",
       "      <td>1.0</td>\n",
       "      <td>87.000000</td>\n",
       "      <td>0.0</td>\n",
       "      <td>NaN</td>\n",
       "      <td>0.0</td>\n",
       "      <td>0.0</td>\n",
       "      <td>4.000000</td>\n",
       "      <td>0.0</td>\n",
       "    </tr>\n",
       "  </tbody>\n",
       "</table>\n",
       "</div>"
      ],
      "text/plain": [
       "       creator_character_id      guild_id  n_added_characters  \\\n",
       "count          1.240000e+02    124.000000          124.000000   \n",
       "mean           2.214774e+07  73965.024194            2.403226   \n",
       "std            4.775135e+06  13603.192703            3.416648   \n",
       "min            1.094399e+07  50498.000000            1.000000   \n",
       "25%            1.876538e+07  61190.500000            1.000000   \n",
       "50%            2.230980e+07  75596.000000            1.000000   \n",
       "75%            2.630366e+07  85125.250000            2.000000   \n",
       "max            2.889549e+07  95430.000000           17.000000   \n",
       "\n",
       "       n_removed_characters  n_talents  level  n_missions_completed  \\\n",
       "count            124.000000      124.0  124.0            124.000000   \n",
       "mean               2.088710        0.0    1.0             23.782258   \n",
       "std                3.549905        0.0    0.0             37.574979   \n",
       "min                0.000000        0.0    1.0              0.000000   \n",
       "25%                0.750000        0.0    1.0              0.000000   \n",
       "50%                1.000000        0.0    1.0              0.000000   \n",
       "75%                2.000000        0.0    1.0             85.000000   \n",
       "max               17.000000        0.0    1.0             87.000000   \n",
       "\n",
       "       n_times_flag_turned_on  mean_place  mean_rating  n_seasons  \\\n",
       "count                   124.0         0.0        124.0      124.0   \n",
       "mean                      0.0         NaN          0.0        0.0   \n",
       "std                       0.0         NaN          0.0        0.0   \n",
       "min                       0.0         NaN          0.0        0.0   \n",
       "25%                       0.0         NaN          0.0        0.0   \n",
       "50%                       0.0         NaN          0.0        0.0   \n",
       "75%                       0.0         NaN          0.0        0.0   \n",
       "max                       0.0         NaN          0.0        0.0   \n",
       "\n",
       "       n_characters  energy_delta  \n",
       "count    124.000000         124.0  \n",
       "mean       0.314516           0.0  \n",
       "std        0.616401           0.0  \n",
       "min        0.000000           0.0  \n",
       "25%        0.000000           0.0  \n",
       "50%        0.000000           0.0  \n",
       "75%        1.000000           0.0  \n",
       "max        4.000000           0.0  "
      ]
     },
     "execution_count": 15,
     "metadata": {},
     "output_type": "execute_result"
    }
   ],
   "source": [
    "guild_data[~guild_data['guild_id'].isin(energy['guild_id'])].describe()"
   ]
  },
  {
   "cell_type": "code",
   "execution_count": 16,
   "id": "bfcbabee",
   "metadata": {},
   "outputs": [
    {
     "data": {
      "text/html": [
       "<div>\n",
       "<style scoped>\n",
       "    .dataframe tbody tr th:only-of-type {\n",
       "        vertical-align: middle;\n",
       "    }\n",
       "\n",
       "    .dataframe tbody tr th {\n",
       "        vertical-align: top;\n",
       "    }\n",
       "\n",
       "    .dataframe thead th {\n",
       "        text-align: right;\n",
       "    }\n",
       "</style>\n",
       "<table border=\"1\" class=\"dataframe\">\n",
       "  <thead>\n",
       "    <tr style=\"text-align: right;\">\n",
       "      <th></th>\n",
       "      <th>creator_character_id</th>\n",
       "      <th>guild_id</th>\n",
       "      <th>n_added_characters</th>\n",
       "      <th>n_removed_characters</th>\n",
       "      <th>n_talents</th>\n",
       "      <th>level</th>\n",
       "      <th>n_missions_completed</th>\n",
       "      <th>n_times_flag_turned_on</th>\n",
       "      <th>mean_place</th>\n",
       "      <th>mean_rating</th>\n",
       "      <th>n_seasons</th>\n",
       "      <th>n_characters</th>\n",
       "      <th>energy_delta</th>\n",
       "    </tr>\n",
       "  </thead>\n",
       "  <tbody>\n",
       "    <tr>\n",
       "      <th>count</th>\n",
       "      <td>9.650000e+02</td>\n",
       "      <td>965.000000</td>\n",
       "      <td>965.000000</td>\n",
       "      <td>965.000000</td>\n",
       "      <td>965.000000</td>\n",
       "      <td>965.000000</td>\n",
       "      <td>965.000000</td>\n",
       "      <td>965.000000</td>\n",
       "      <td>59.000000</td>\n",
       "      <td>965.000000</td>\n",
       "      <td>965.000000</td>\n",
       "      <td>965.000000</td>\n",
       "      <td>9.650000e+02</td>\n",
       "    </tr>\n",
       "    <tr>\n",
       "      <th>mean</th>\n",
       "      <td>2.323599e+07</td>\n",
       "      <td>72964.000000</td>\n",
       "      <td>32.888083</td>\n",
       "      <td>27.862176</td>\n",
       "      <td>10.739896</td>\n",
       "      <td>2.243523</td>\n",
       "      <td>127.661140</td>\n",
       "      <td>0.154404</td>\n",
       "      <td>15.024294</td>\n",
       "      <td>29.046269</td>\n",
       "      <td>0.092228</td>\n",
       "      <td>5.025907</td>\n",
       "      <td>7.364979e+04</td>\n",
       "    </tr>\n",
       "    <tr>\n",
       "      <th>std</th>\n",
       "      <td>3.926890e+06</td>\n",
       "      <td>13099.642839</td>\n",
       "      <td>36.893785</td>\n",
       "      <td>34.150792</td>\n",
       "      <td>14.570964</td>\n",
       "      <td>1.372436</td>\n",
       "      <td>72.172584</td>\n",
       "      <td>0.655327</td>\n",
       "      <td>7.262593</td>\n",
       "      <td>114.608182</td>\n",
       "      <td>0.435451</td>\n",
       "      <td>4.961507</td>\n",
       "      <td>1.982774e+05</td>\n",
       "    </tr>\n",
       "    <tr>\n",
       "      <th>min</th>\n",
       "      <td>1.063135e+07</td>\n",
       "      <td>50310.000000</td>\n",
       "      <td>1.000000</td>\n",
       "      <td>0.000000</td>\n",
       "      <td>0.000000</td>\n",
       "      <td>1.000000</td>\n",
       "      <td>0.000000</td>\n",
       "      <td>0.000000</td>\n",
       "      <td>2.500000</td>\n",
       "      <td>0.000000</td>\n",
       "      <td>0.000000</td>\n",
       "      <td>0.000000</td>\n",
       "      <td>0.000000e+00</td>\n",
       "    </tr>\n",
       "    <tr>\n",
       "      <th>25%</th>\n",
       "      <td>2.114097e+07</td>\n",
       "      <td>61637.000000</td>\n",
       "      <td>4.000000</td>\n",
       "      <td>2.000000</td>\n",
       "      <td>0.000000</td>\n",
       "      <td>1.000000</td>\n",
       "      <td>86.000000</td>\n",
       "      <td>0.000000</td>\n",
       "      <td>10.000000</td>\n",
       "      <td>0.000000</td>\n",
       "      <td>0.000000</td>\n",
       "      <td>1.000000</td>\n",
       "      <td>1.680000e+03</td>\n",
       "    </tr>\n",
       "    <tr>\n",
       "      <th>50%</th>\n",
       "      <td>2.395866e+07</td>\n",
       "      <td>72964.000000</td>\n",
       "      <td>20.000000</td>\n",
       "      <td>14.000000</td>\n",
       "      <td>7.000000</td>\n",
       "      <td>2.000000</td>\n",
       "      <td>168.000000</td>\n",
       "      <td>0.000000</td>\n",
       "      <td>14.000000</td>\n",
       "      <td>0.000000</td>\n",
       "      <td>0.000000</td>\n",
       "      <td>4.000000</td>\n",
       "      <td>1.658000e+04</td>\n",
       "    </tr>\n",
       "    <tr>\n",
       "      <th>75%</th>\n",
       "      <td>2.631834e+07</td>\n",
       "      <td>84291.000000</td>\n",
       "      <td>49.000000</td>\n",
       "      <td>44.000000</td>\n",
       "      <td>15.000000</td>\n",
       "      <td>3.000000</td>\n",
       "      <td>171.000000</td>\n",
       "      <td>0.000000</td>\n",
       "      <td>18.500000</td>\n",
       "      <td>0.000000</td>\n",
       "      <td>0.000000</td>\n",
       "      <td>8.000000</td>\n",
       "      <td>6.158000e+04</td>\n",
       "    </tr>\n",
       "    <tr>\n",
       "      <th>max</th>\n",
       "      <td>2.909053e+07</td>\n",
       "      <td>95618.000000</td>\n",
       "      <td>283.000000</td>\n",
       "      <td>265.000000</td>\n",
       "      <td>109.000000</td>\n",
       "      <td>8.000000</td>\n",
       "      <td>279.000000</td>\n",
       "      <td>8.000000</td>\n",
       "      <td>35.000000</td>\n",
       "      <td>604.000000</td>\n",
       "      <td>5.000000</td>\n",
       "      <td>23.000000</td>\n",
       "      <td>1.847185e+06</td>\n",
       "    </tr>\n",
       "  </tbody>\n",
       "</table>\n",
       "</div>"
      ],
      "text/plain": [
       "       creator_character_id      guild_id  n_added_characters  \\\n",
       "count          9.650000e+02    965.000000          965.000000   \n",
       "mean           2.323599e+07  72964.000000           32.888083   \n",
       "std            3.926890e+06  13099.642839           36.893785   \n",
       "min            1.063135e+07  50310.000000            1.000000   \n",
       "25%            2.114097e+07  61637.000000            4.000000   \n",
       "50%            2.395866e+07  72964.000000           20.000000   \n",
       "75%            2.631834e+07  84291.000000           49.000000   \n",
       "max            2.909053e+07  95618.000000          283.000000   \n",
       "\n",
       "       n_removed_characters   n_talents       level  n_missions_completed  \\\n",
       "count            965.000000  965.000000  965.000000            965.000000   \n",
       "mean              27.862176   10.739896    2.243523            127.661140   \n",
       "std               34.150792   14.570964    1.372436             72.172584   \n",
       "min                0.000000    0.000000    1.000000              0.000000   \n",
       "25%                2.000000    0.000000    1.000000             86.000000   \n",
       "50%               14.000000    7.000000    2.000000            168.000000   \n",
       "75%               44.000000   15.000000    3.000000            171.000000   \n",
       "max              265.000000  109.000000    8.000000            279.000000   \n",
       "\n",
       "       n_times_flag_turned_on  mean_place  mean_rating   n_seasons  \\\n",
       "count              965.000000   59.000000   965.000000  965.000000   \n",
       "mean                 0.154404   15.024294    29.046269    0.092228   \n",
       "std                  0.655327    7.262593   114.608182    0.435451   \n",
       "min                  0.000000    2.500000     0.000000    0.000000   \n",
       "25%                  0.000000   10.000000     0.000000    0.000000   \n",
       "50%                  0.000000   14.000000     0.000000    0.000000   \n",
       "75%                  0.000000   18.500000     0.000000    0.000000   \n",
       "max                  8.000000   35.000000   604.000000    5.000000   \n",
       "\n",
       "       n_characters  energy_delta  \n",
       "count    965.000000  9.650000e+02  \n",
       "mean       5.025907  7.364979e+04  \n",
       "std        4.961507  1.982774e+05  \n",
       "min        0.000000  0.000000e+00  \n",
       "25%        1.000000  1.680000e+03  \n",
       "50%        4.000000  1.658000e+04  \n",
       "75%        8.000000  6.158000e+04  \n",
       "max       23.000000  1.847185e+06  "
      ]
     },
     "execution_count": 16,
     "metadata": {},
     "output_type": "execute_result"
    }
   ],
   "source": [
    "guild_data.describe()"
   ]
  },
  {
   "cell_type": "markdown",
   "id": "b979b6bd",
   "metadata": {},
   "source": [
    "### Шаг 1: Кластеризация"
   ]
  },
  {
   "cell_type": "markdown",
   "id": "8fe7fe67",
   "metadata": {},
   "source": [
    "Критерий активности выберем кластеризацией методом ближайший соседей. Так как метод считает расстояние между точками в пространстве признаков, их нужно нормировать (например, MinMax)."
   ]
  },
  {
   "cell_type": "code",
   "execution_count": 17,
   "id": "1cf2768c",
   "metadata": {
    "scrolled": true
   },
   "outputs": [],
   "source": [
    "X = guild_data[['n_talents', 'level', 'n_missions_completed', 'n_characters', 'energy_delta']]\n",
    "clustering = KMeans(n_clusters=4).fit(MinMaxScaler().fit_transform(X))\n",
    "clustering.labels_\n",
    "guild_data['cluster'] = pd.Series(clustering.labels_)"
   ]
  },
  {
   "cell_type": "code",
   "execution_count": 18,
   "id": "5eb9376b",
   "metadata": {},
   "outputs": [],
   "source": [
    "# 75-ый персентиль\n",
    "def q3(x):\n",
    "    return x.quantile(0.75)"
   ]
  },
  {
   "cell_type": "markdown",
   "id": "a19f3720",
   "metadata": {},
   "source": [
    "Посмотрим на результаты кластеризации "
   ]
  },
  {
   "cell_type": "code",
   "execution_count": 19,
   "id": "28ab590e",
   "metadata": {
    "scrolled": true
   },
   "outputs": [
    {
     "name": "stdout",
     "output_type": "stream",
     "text": [
      "3    418\n",
      "1    364\n",
      "0    155\n",
      "2     28\n",
      "Name: cluster, dtype: int64\n"
     ]
    },
    {
     "data": {
      "text/html": [
       "<div>\n",
       "<style scoped>\n",
       "    .dataframe tbody tr th:only-of-type {\n",
       "        vertical-align: middle;\n",
       "    }\n",
       "\n",
       "    .dataframe tbody tr th {\n",
       "        vertical-align: top;\n",
       "    }\n",
       "\n",
       "    .dataframe thead tr th {\n",
       "        text-align: left;\n",
       "    }\n",
       "\n",
       "    .dataframe thead tr:last-of-type th {\n",
       "        text-align: right;\n",
       "    }\n",
       "</style>\n",
       "<table border=\"1\" class=\"dataframe\">\n",
       "  <thead>\n",
       "    <tr>\n",
       "      <th></th>\n",
       "      <th colspan=\"2\" halign=\"left\">n_talents</th>\n",
       "      <th colspan=\"2\" halign=\"left\">level</th>\n",
       "      <th colspan=\"2\" halign=\"left\">n_missions_completed</th>\n",
       "      <th colspan=\"2\" halign=\"left\">n_characters</th>\n",
       "      <th colspan=\"2\" halign=\"left\">energy_delta</th>\n",
       "    </tr>\n",
       "    <tr>\n",
       "      <th></th>\n",
       "      <th>median</th>\n",
       "      <th>q3</th>\n",
       "      <th>median</th>\n",
       "      <th>q3</th>\n",
       "      <th>median</th>\n",
       "      <th>q3</th>\n",
       "      <th>median</th>\n",
       "      <th>q3</th>\n",
       "      <th>median</th>\n",
       "      <th>q3</th>\n",
       "    </tr>\n",
       "    <tr>\n",
       "      <th>cluster</th>\n",
       "      <th></th>\n",
       "      <th></th>\n",
       "      <th></th>\n",
       "      <th></th>\n",
       "      <th></th>\n",
       "      <th></th>\n",
       "      <th></th>\n",
       "      <th></th>\n",
       "      <th></th>\n",
       "      <th></th>\n",
       "    </tr>\n",
       "  </thead>\n",
       "  <tbody>\n",
       "    <tr>\n",
       "      <th>0</th>\n",
       "      <td>25.0</td>\n",
       "      <td>31.00</td>\n",
       "      <td>4.0</td>\n",
       "      <td>4.0</td>\n",
       "      <td>175.0</td>\n",
       "      <td>218.00</td>\n",
       "      <td>11.0</td>\n",
       "      <td>13.0</td>\n",
       "      <td>121760.0</td>\n",
       "      <td>213900.00</td>\n",
       "    </tr>\n",
       "    <tr>\n",
       "      <th>1</th>\n",
       "      <td>0.0</td>\n",
       "      <td>0.00</td>\n",
       "      <td>1.0</td>\n",
       "      <td>1.0</td>\n",
       "      <td>32.5</td>\n",
       "      <td>86.00</td>\n",
       "      <td>0.0</td>\n",
       "      <td>1.0</td>\n",
       "      <td>560.0</td>\n",
       "      <td>3360.00</td>\n",
       "    </tr>\n",
       "    <tr>\n",
       "      <th>2</th>\n",
       "      <td>67.5</td>\n",
       "      <td>79.25</td>\n",
       "      <td>7.0</td>\n",
       "      <td>7.0</td>\n",
       "      <td>250.0</td>\n",
       "      <td>265.25</td>\n",
       "      <td>20.0</td>\n",
       "      <td>21.0</td>\n",
       "      <td>973454.0</td>\n",
       "      <td>1373521.25</td>\n",
       "    </tr>\n",
       "    <tr>\n",
       "      <th>3</th>\n",
       "      <td>9.0</td>\n",
       "      <td>14.00</td>\n",
       "      <td>2.0</td>\n",
       "      <td>3.0</td>\n",
       "      <td>170.0</td>\n",
       "      <td>171.00</td>\n",
       "      <td>6.0</td>\n",
       "      <td>7.0</td>\n",
       "      <td>25010.0</td>\n",
       "      <td>46900.00</td>\n",
       "    </tr>\n",
       "  </tbody>\n",
       "</table>\n",
       "</div>"
      ],
      "text/plain": [
       "        n_talents         level      n_missions_completed          \\\n",
       "           median     q3 median   q3               median      q3   \n",
       "cluster                                                             \n",
       "0            25.0  31.00    4.0  4.0                175.0  218.00   \n",
       "1             0.0   0.00    1.0  1.0                 32.5   86.00   \n",
       "2            67.5  79.25    7.0  7.0                250.0  265.25   \n",
       "3             9.0  14.00    2.0  3.0                170.0  171.00   \n",
       "\n",
       "        n_characters       energy_delta              \n",
       "              median    q3       median          q3  \n",
       "cluster                                              \n",
       "0               11.0  13.0     121760.0   213900.00  \n",
       "1                0.0   1.0        560.0     3360.00  \n",
       "2               20.0  21.0     973454.0  1373521.25  \n",
       "3                6.0   7.0      25010.0    46900.00  "
      ]
     },
     "execution_count": 19,
     "metadata": {},
     "output_type": "execute_result"
    }
   ],
   "source": [
    "print(guild_data.cluster.value_counts())\n",
    "guild_data[['n_talents', 'level', 'n_missions_completed', 'n_characters', 'energy_delta', 'cluster']].groupby('cluster').agg(['median', q3])"
   ]
  },
  {
   "cell_type": "code",
   "execution_count": 20,
   "id": "fa8b5298",
   "metadata": {},
   "outputs": [
    {
     "data": {
      "text/plain": [
       "name\n",
       "Empty          1\n",
       "Inactive       3\n",
       "Active         0\n",
       "Very Active    2\n",
       "Name: cluster, dtype: int64"
      ]
     },
     "execution_count": 20,
     "metadata": {},
     "output_type": "execute_result"
    }
   ],
   "source": [
    "clusters = guild_data[['n_talents', 'level', 'n_missions_completed', 'n_characters', 'energy_delta', 'cluster']].groupby('cluster').agg(['median'])['energy_delta'].sort_values(by =['median'])\n",
    "clusters['name'] = pd.Series(['Empty', 'Inactive', 'Active', 'Very Active']).values\n",
    "clusters = clusters['name']\n",
    "clusters = pd.Series(clusters.index.values, index=clusters, name = 'cluster')\n",
    "clusters"
   ]
  },
  {
   "cell_type": "code",
   "execution_count": 21,
   "id": "a1ce76ce-fb24-424a-9477-e6553db64711",
   "metadata": {},
   "outputs": [],
   "source": [
    "guild_data.to_csv('guild_clusters.csv')"
   ]
  },
  {
   "cell_type": "markdown",
   "id": "846e53ac",
   "metadata": {},
   "source": [
    "### Шаг 2: интерпретация"
   ]
  },
  {
   "cell_type": "markdown",
   "id": "c6657bb1",
   "metadata": {},
   "source": [
    "Мы получили 4 кластера:\n",
    "- \"Пустые\" гильдии   ~240\n",
    "- Неактивные гильдии ~410\n",
    "- Активные гильдии   ~160\n",
    "- Очень активные гильдии ~30"
   ]
  },
  {
   "cell_type": "markdown",
   "id": "3183067b",
   "metadata": {},
   "source": [
    "Так как KMeans алгоритм выбирает начальные центры кластеров случайно, то номер кластера и число гильдий будут немного меняться. Однако в целом размер и характер кластера не меняются, что указывает на хороший выбор числа кластеров."
   ]
  },
  {
   "cell_type": "markdown",
   "id": "8c9e0496",
   "metadata": {},
   "source": [
    "Обоснуем выбор метода\n",
    "- KMeans разбивает множество гильдий на похожие классы, результаты можно легко интерпретировать.\n",
    "- Разбиение автоматическое, нужно лишь подобрать число кластеров и признаки."
   ]
  },
  {
   "cell_type": "markdown",
   "id": "803c096b",
   "metadata": {},
   "source": [
    "Обоснуем выбор признаков для кластеризации\n",
    "- вместо сильнокоррелирующих и не очень информативных n_added_characters и n_removed_characters используется текущее кол-во персонажей в гильдии\n",
    "- n_times_flag_turned_on, mean_place, mean_rating и n_seasons указаны для малого количества гильдий и при кластеризации разбивают кластер активных гильдий на 2 (с рейтингом и без), поэтому не используются"
   ]
  },
  {
   "cell_type": "markdown",
   "id": "367773de",
   "metadata": {},
   "source": [
    "Так как пространство признаков размерностью 5, то для визуализации придется воспользоваться либо декомпозицией, либо попарными графиками."
   ]
  },
  {
   "cell_type": "code",
   "execution_count": 22,
   "id": "b83c1529",
   "metadata": {},
   "outputs": [
    {
     "data": {
      "text/plain": [
       "<matplotlib.collections.PathCollection at 0x1827cae7c88>"
      ]
     },
     "execution_count": 22,
     "metadata": {},
     "output_type": "execute_result"
    },
    {
     "data": {
      "image/png": "[encoded data removed]",
      "text/plain": [
       "<Figure size 640x480 with 1 Axes>"
      ]
     },
     "metadata": {},
     "output_type": "display_data"
    }
   ],
   "source": [
    "from sklearn.decomposition import PCA\n",
    "pca_data = PCA(n_components=2).fit_transform(guild_data[['n_talents', 'level', 'n_missions_completed', 'n_characters', 'energy_delta']])\n",
    "plt.scatter(pca_data[:, 0], pca_data[:, 1], c=clustering.labels_, cmap='tab10')"
   ]
  },
  {
   "cell_type": "markdown",
   "id": "4900a9df",
   "metadata": {},
   "source": [
    "В целом после декомпозиции кластеры хорошо отделяются друг от друга, но полученные два признака неитерпретируемы. Поэтому ниже посмотрим на попарные распределения."
   ]
  },
  {
   "cell_type": "markdown",
   "id": "2c905221",
   "metadata": {},
   "source": [
    "Посмотрим на график кол-во игроков - энергия.      \n",
    "У кластера самых активных гильдий energy_delta сильно выше, чем у остальных. Так что лучше посмотреть на график с log-шкалой."
   ]
  },
  {
   "cell_type": "code",
   "execution_count": 23,
   "id": "cf59eda8",
   "metadata": {},
   "outputs": [
    {
     "data": {
      "image/png": "[encoded data removed]",
      "text/plain": [
       "<Figure size 1000x300 with 2 Axes>"
      ]
     },
     "metadata": {},
     "output_type": "display_data"
    }
   ],
   "source": [
    "plt.figure(figsize=(10, 3))\n",
    "plt.subplot(1, 2, 1)\n",
    "plt.scatter(guild_data['n_characters'], guild_data['energy_delta'], c=clustering.labels_, cmap='tab10')  \n",
    "plt.ylabel(\"энергия\")\n",
    "plt.xlabel(\"кол-во персонажей\")\n",
    "plt.subplot(1, 2, 2)\n",
    "plt.scatter(guild_data['n_characters'], np.log(guild_data['energy_delta'] + 1), c=clustering.labels_, cmap='tab10')\n",
    "plt.ylabel(\"log(энергия)\")\n",
    "plt.xlabel(\"кол-во персонажей\")\n",
    "plt.show()\n"
   ]
  },
  {
   "cell_type": "markdown",
   "id": "bce4e7c1",
   "metadata": {},
   "source": [
    "Посмотрим на график кол-во игроков - кол-во талантов. Так же в log-шкале."
   ]
  },
  {
   "cell_type": "code",
   "execution_count": 24,
   "id": "3552583c",
   "metadata": {},
   "outputs": [
    {
     "data": {
      "image/png": "[encoded data removed]",
      "text/plain": [
       "<Figure size 640x480 with 1 Axes>"
      ]
     },
     "metadata": {},
     "output_type": "display_data"
    }
   ],
   "source": [
    "plt.scatter(guild_data['n_characters'], np.log(guild_data['n_talents'] + np.exp(-1)), c=clustering.labels_, cmap='tab10') \n",
    "plt.ylabel(\"log(таланты)\")\n",
    "plt.xlabel(\"кол-во персонажей\")\n",
    "plt.show()"
   ]
  },
  {
   "cell_type": "code",
   "execution_count": 25,
   "id": "6411ec16",
   "metadata": {},
   "outputs": [
    {
     "data": {
      "image/png": "[encoded data removed]",
      "text/plain": [
       "<Figure size 640x480 with 1 Axes>"
      ]
     },
     "metadata": {},
     "output_type": "display_data"
    }
   ],
   "source": [
    "plt.scatter(guild_data['n_characters'], guild_data['n_missions_completed'], c=clustering.labels_, cmap='tab10') \n",
    "plt.ylabel(\"миссии\")\n",
    "plt.xlabel(\"кол-во персонажей\")\n",
    "plt.show()"
   ]
  },
  {
   "cell_type": "markdown",
   "id": "063419e9",
   "metadata": {},
   "source": [
    "## Гипотеза 2: игроки, покупающие премиум товары, создают более активные гильдии"
   ]
  },
  {
   "cell_type": "markdown",
   "id": "884ae342",
   "metadata": {},
   "source": [
    "Предлагается расчитать две метрики: \n",
    "- Paying share – доля платящих в группе.\n",
    "- ARPPU (average revenue per paying user) – средняя прибыль с платящего пользователя в группе.\n"
   ]
  },
  {
   "cell_type": "markdown",
   "id": "4ebaaf6b",
   "metadata": {},
   "source": [
    "### Шаг 0: загрузка данных"
   ]
  },
  {
   "cell_type": "code",
   "execution_count": 26,
   "id": "1f21e2dd",
   "metadata": {},
   "outputs": [
    {
     "data": {
      "text/html": [
       "<div>\n",
       "<style scoped>\n",
       "    .dataframe tbody tr th:only-of-type {\n",
       "        vertical-align: middle;\n",
       "    }\n",
       "\n",
       "    .dataframe tbody tr th {\n",
       "        vertical-align: top;\n",
       "    }\n",
       "\n",
       "    .dataframe thead th {\n",
       "        text-align: right;\n",
       "    }\n",
       "</style>\n",
       "<table border=\"1\" class=\"dataframe\">\n",
       "  <thead>\n",
       "    <tr style=\"text-align: right;\">\n",
       "      <th></th>\n",
       "      <th>revenue</th>\n",
       "      <th>character_id</th>\n",
       "    </tr>\n",
       "  </thead>\n",
       "  <tbody>\n",
       "    <tr>\n",
       "      <th>0</th>\n",
       "      <td>102.897877</td>\n",
       "      <td>13642352</td>\n",
       "    </tr>\n",
       "    <tr>\n",
       "      <th>1</th>\n",
       "      <td>105.839569</td>\n",
       "      <td>29703528</td>\n",
       "    </tr>\n",
       "    <tr>\n",
       "      <th>2</th>\n",
       "      <td>50.040612</td>\n",
       "      <td>28081545</td>\n",
       "    </tr>\n",
       "    <tr>\n",
       "      <th>3</th>\n",
       "      <td>18.044814</td>\n",
       "      <td>12663426</td>\n",
       "    </tr>\n",
       "    <tr>\n",
       "      <th>4</th>\n",
       "      <td>5.913989</td>\n",
       "      <td>16071934</td>\n",
       "    </tr>\n",
       "    <tr>\n",
       "      <th>...</th>\n",
       "      <td>...</td>\n",
       "      <td>...</td>\n",
       "    </tr>\n",
       "    <tr>\n",
       "      <th>20425</th>\n",
       "      <td>19.883457</td>\n",
       "      <td>18620449</td>\n",
       "    </tr>\n",
       "    <tr>\n",
       "      <th>20426</th>\n",
       "      <td>8.422335</td>\n",
       "      <td>19270498</td>\n",
       "    </tr>\n",
       "    <tr>\n",
       "      <th>20427</th>\n",
       "      <td>4.270301</td>\n",
       "      <td>22729767</td>\n",
       "    </tr>\n",
       "    <tr>\n",
       "      <th>20428</th>\n",
       "      <td>44.970000</td>\n",
       "      <td>27020854</td>\n",
       "    </tr>\n",
       "    <tr>\n",
       "      <th>20429</th>\n",
       "      <td>133.720000</td>\n",
       "      <td>34464068</td>\n",
       "    </tr>\n",
       "  </tbody>\n",
       "</table>\n",
       "<p>20430 rows × 2 columns</p>\n",
       "</div>"
      ],
      "text/plain": [
       "          revenue  character_id\n",
       "0      102.897877      13642352\n",
       "1      105.839569      29703528\n",
       "2       50.040612      28081545\n",
       "3       18.044814      12663426\n",
       "4        5.913989      16071934\n",
       "...           ...           ...\n",
       "20425   19.883457      18620449\n",
       "20426    8.422335      19270498\n",
       "20427    4.270301      22729767\n",
       "20428   44.970000      27020854\n",
       "20429  133.720000      34464068\n",
       "\n",
       "[20430 rows x 2 columns]"
      ]
     },
     "execution_count": 26,
     "metadata": {},
     "output_type": "execute_result"
    }
   ],
   "source": [
    "payers = pd.read_csv('payers.csv')\n",
    "payers"
   ]
  },
  {
   "cell_type": "code",
   "execution_count": 27,
   "id": "d0bb54a8",
   "metadata": {},
   "outputs": [],
   "source": [
    "guild_data['is_premuim'] = guild_data['creator_character_id'].isin(payers['character_id'])"
   ]
  },
  {
   "cell_type": "code",
   "execution_count": 28,
   "id": "2310f239",
   "metadata": {},
   "outputs": [],
   "source": [
    "guild_data.to_csv('guild_merged.csv')"
   ]
  },
  {
   "cell_type": "code",
   "execution_count": 29,
   "id": "a84bf8c4",
   "metadata": {},
   "outputs": [
    {
     "data": {
      "text/plain": [
       "False    637\n",
       "True     328\n",
       "Name: is_premuim, dtype: int64"
      ]
     },
     "execution_count": 29,
     "metadata": {},
     "output_type": "execute_result"
    }
   ],
   "source": [
    "guild_data['is_premuim'].value_counts()"
   ]
  },
  {
   "cell_type": "markdown",
   "id": "671cbf37",
   "metadata": {},
   "source": [
    "Расчитаем paying share"
   ]
  },
  {
   "cell_type": "code",
   "execution_count": 30,
   "id": "9a35c02f",
   "metadata": {},
   "outputs": [
    {
     "data": {
      "text/plain": [
       "name\n",
       "Empty          1\n",
       "Inactive       3\n",
       "Active         0\n",
       "Very Active    2\n",
       "Name: cluster, dtype: int64"
      ]
     },
     "execution_count": 30,
     "metadata": {},
     "output_type": "execute_result"
    }
   ],
   "source": [
    "inactive_clusters = clusters[:2].values\n",
    "active_clusters = clusters[2:].values\n",
    "clusters"
   ]
  },
  {
   "cell_type": "markdown",
   "id": "1612cf1e",
   "metadata": {},
   "source": [
    "### Шаг 1: проверка гипотезы"
   ]
  },
  {
   "cell_type": "code",
   "execution_count": 28,
   "id": "c2e65ebc",
   "metadata": {
    "scrolled": true
   },
   "outputs": [
    {
     "data": {
      "text/plain": [
       "(0.3850267379679144, 0.32904884318766064)"
      ]
     },
     "execution_count": 28,
     "metadata": {},
     "output_type": "execute_result"
    }
   ],
   "source": [
    "n_active_premium = guild_data[(guild_data['cluster'].isin(active_clusters)) & (guild_data['is_premuim'] == True)].shape[0]\n",
    "n_inactive_premium = guild_data[(~guild_data['cluster'].isin(active_clusters)) & (guild_data['is_premuim'] == True)].shape[0]\n",
    "n_active =  guild_data[guild_data['cluster'].isin(active_clusters)].shape[0]\n",
    "n_inactive =  guild_data[~guild_data['cluster'].isin(active_clusters)].shape[0]\n",
    "n_active_premium / n_active, n_inactive_premium /n_inactive"
   ]
  },
  {
   "cell_type": "markdown",
   "id": "f3021912",
   "metadata": {},
   "source": [
    "Проверим вторую гипотезу на уровне значимости 5%\n",
    "\n",
    "$$\n",
    "H_0: p_0 = p_1\n",
    "$$\n",
    "$$\n",
    "H_1: p_0 > p_1\n",
    "$$\n",
    "\n",
    "где $p_0$ - paying share для активных гильдий, а $p_1$ -- неактивных"
   ]
  },
  {
   "cell_type": "code",
   "execution_count": 29,
   "id": "9e1a49e4",
   "metadata": {},
   "outputs": [
    {
     "name": "stdout",
     "output_type": "stream",
     "text": [
      "0.073\n"
     ]
    }
   ],
   "source": [
    "count = np.array([n_active_premium, n_inactive_premium])\n",
    "nobs = np.array([n_active, n_inactive])\n",
    "stat, pval = proportions_ztest(count, nobs, alternative = 'larger')\n",
    "print('{0:0.3f}'.format(pval))"
   ]
  },
  {
   "cell_type": "markdown",
   "id": "d94191ec",
   "metadata": {},
   "source": [
    "Мы не можем отвергнуть гипотезу о равенстве долей платящих на текущем уровне значимости. Скорее всего, что не хватает мощности критерия для данного размера выборки (например, на выборке в 2 раза больше тест бы уверенно отверг $H_0$)"
   ]
  },
  {
   "cell_type": "markdown",
   "id": "b75dd1e7",
   "metadata": {},
   "source": [
    "### Шаг 2: проверка доп. гипотезы"
   ]
  },
  {
   "cell_type": "markdown",
   "id": "4b1f9440",
   "metadata": {},
   "source": [
    "Гипотезы нет в ТЗ, но можно проверить, что средняя прибыль от основателей активных гильдий больше, чем от неактивных. (Только из платящих)\n",
    "\n",
    "$$\n",
    "H_0: \\mu_0 = \\mu_1\n",
    "$$\n",
    "$$\n",
    "H_1: \\mu_0 > \\mu_1\n",
    "$$\n",
    "\n",
    "где $\\mu_0$ - ARPPU для активных гильдий, а $\\mu_1$ -- неактивных"
   ]
  },
  {
   "cell_type": "markdown",
   "id": "bb6492d2",
   "metadata": {},
   "source": [
    "Посчитаем ARPPU "
   ]
  },
  {
   "cell_type": "code",
   "execution_count": 30,
   "id": "a71f4999",
   "metadata": {},
   "outputs": [],
   "source": [
    "active = guild_data[guild_data['cluster'].isin(active_clusters)]['creator_character_id']\n",
    "inactive = guild_data[~guild_data['cluster'].isin(active_clusters)]['creator_character_id']"
   ]
  },
  {
   "cell_type": "code",
   "execution_count": 31,
   "id": "17a7f32f",
   "metadata": {
    "scrolled": true
   },
   "outputs": [
    {
     "data": {
      "text/plain": [
       "(77.35542770671339, 49.08317498604529)"
      ]
     },
     "execution_count": 31,
     "metadata": {},
     "output_type": "execute_result"
    }
   ],
   "source": [
    "active_revenue = payers[payers['character_id'].isin(active) & payers['revenue'] != 0]['revenue']\n",
    "inactive_revenue = payers[payers['character_id'].isin(inactive) & payers['revenue'] != 0]['revenue']\n",
    "active_revenue.mean(), inactive_revenue.mean()"
   ]
  },
  {
   "cell_type": "code",
   "execution_count": 32,
   "id": "88ff9a2f",
   "metadata": {},
   "outputs": [
    {
     "data": {
      "text/plain": [
       "<Axes: >"
      ]
     },
     "execution_count": 32,
     "metadata": {},
     "output_type": "execute_result"
    },
    {
     "data": {
      "image/png": "[encoded data removed]",
      "text/plain": [
       "<Figure size 640x480 with 1 Axes>"
      ]
     },
     "metadata": {},
     "output_type": "display_data"
    }
   ],
   "source": [
    "(active_revenue).hist()"
   ]
  },
  {
   "cell_type": "markdown",
   "id": "ab989c45",
   "metadata": {},
   "source": [
    "Распределения выборок не являются нормальными, но размер выборок достаточно большой для того, чтобы работала ЦПТ"
   ]
  },
  {
   "cell_type": "markdown",
   "id": "18a4ad52",
   "metadata": {},
   "source": [
    "#### A/A test"
   ]
  },
  {
   "cell_type": "code",
   "execution_count": 33,
   "id": "2c368ed5",
   "metadata": {},
   "outputs": [],
   "source": [
    "from typing import Callable\n",
    "def AA_t_test(data: np.ndarray, n: int) -> float:\n",
    "    c = 0\n",
    "    for i in range(n):\n",
    "        stat, pval, df = ttest_ind(np.random.choice(data, 400), np.random.choice(data, 400), alternative = 'two-sided')\n",
    "        if pval <= 0.05:\n",
    "            c += 1\n",
    "    return c/n"
   ]
  },
  {
   "cell_type": "code",
   "execution_count": 34,
   "id": "056138b6",
   "metadata": {
    "scrolled": true
   },
   "outputs": [
    {
     "name": "stdout",
     "output_type": "stream",
     "text": [
      "CPU times: total: 5.41 s\n",
      "Wall time: 5.4 s\n"
     ]
    },
    {
     "data": {
      "text/plain": [
       "(0.0507, 0.048)"
      ]
     },
     "execution_count": 34,
     "metadata": {},
     "output_type": "execute_result"
    }
   ],
   "source": [
    "%%time\n",
    "AA_t_test(active_revenue.values, 10000), AA_t_test(inactive_revenue.values, 10000)"
   ]
  },
  {
   "cell_type": "code",
   "execution_count": 35,
   "id": "9e333f27",
   "metadata": {},
   "outputs": [],
   "source": [
    "def AA_mw_test(data: np.ndarray, n: int) -> float:\n",
    "    c = 0\n",
    "    for i in range(n):\n",
    "        stat, pval = mannwhitneyu(np.random.choice(data, 400), np.random.choice(data, 400), alternative = 'two-sided')\n",
    "        if pval <= 0.05:\n",
    "            c += 1\n",
    "    return c/n"
   ]
  },
  {
   "cell_type": "code",
   "execution_count": 36,
   "id": "afa8ff60",
   "metadata": {},
   "outputs": [
    {
     "name": "stdout",
     "output_type": "stream",
     "text": [
      "CPU times: total: 32 s\n",
      "Wall time: 32 s\n"
     ]
    },
    {
     "data": {
      "text/plain": [
       "(0.0512, 0.0488)"
      ]
     },
     "execution_count": 36,
     "metadata": {},
     "output_type": "execute_result"
    }
   ],
   "source": [
    "%%time\n",
    "AA_mw_test(active_revenue.values, 10000), AA_mw_test(inactive_revenue.values, 10000)"
   ]
  },
  {
   "cell_type": "markdown",
   "id": "3e73d481",
   "metadata": {},
   "source": [
    "A/A тест показывает, что тест Стьюдента применим для наших данных и работает быстрее теста Манна-Уитни"
   ]
  },
  {
   "cell_type": "markdown",
   "id": "cc87ca4f",
   "metadata": {},
   "source": [
    "Посчитаем p-value"
   ]
  },
  {
   "cell_type": "code",
   "execution_count": 37,
   "id": "ae098125",
   "metadata": {},
   "outputs": [
    {
     "data": {
      "text/plain": [
       "0.004082389570644992"
      ]
     },
     "execution_count": 37,
     "metadata": {},
     "output_type": "execute_result"
    }
   ],
   "source": [
    "ttest_ind(active_revenue.values, inactive_revenue.values, alternative = 'larger')[1]"
   ]
  },
  {
   "cell_type": "markdown",
   "id": "500aea7d",
   "metadata": {},
   "source": [
    "Различие статистически и практически значимо, средняя прибыль от основателей активных гильдий больше, чем от неактивных."
   ]
  },
  {
   "cell_type": "markdown",
   "id": "9e306f18",
   "metadata": {},
   "source": [
    "### Шаг 3: рассчёт метрик"
   ]
  },
  {
   "cell_type": "markdown",
   "id": "5af8b0a6",
   "metadata": {},
   "source": [
    "Посмотрим на paying share в каждой группе"
   ]
  },
  {
   "cell_type": "code",
   "execution_count": 38,
   "id": "343d6b5c",
   "metadata": {
    "scrolled": true
   },
   "outputs": [
    {
     "name": "stdout",
     "output_type": "stream",
     "text": [
      "0.29395604395604397 Empty\n",
      "0.34177215189873417 Active\n",
      "0.6206896551724138 Very Active\n",
      "0.35990338164251207 Inactive\n"
     ]
    }
   ],
   "source": [
    "paying_shares = []\n",
    "for i in range(4):\n",
    "    n_premium = guild_data[(guild_data['cluster'] == i) & (guild_data['is_premuim'] == True)].shape[0]\n",
    "    n_total =  guild_data[guild_data['cluster'] == i].shape[0]\n",
    "    paying_shares.append(n_premium / n_total)\n",
    "    print(n_premium / n_total, clusters.index[clusters == i].tolist()[0])"
   ]
  },
  {
   "cell_type": "markdown",
   "id": "f0ae7602",
   "metadata": {},
   "source": [
    "Также посчитаем ARPPU для каждой группы"
   ]
  },
  {
   "cell_type": "code",
   "execution_count": 39,
   "id": "819eb24c",
   "metadata": {
    "scrolled": true
   },
   "outputs": [
    {
     "name": "stdout",
     "output_type": "stream",
     "text": [
      "53.15187350669849 Empty\n",
      "76.94350894477613 Active\n",
      "78.59118399252513 Very Active\n",
      "46.680194117097294 Inactive\n"
     ]
    }
   ],
   "source": [
    "ARPPUs = []\n",
    "for i in range(4):\n",
    "    group = guild_data[guild_data['cluster'] == i]['creator_character_id']\n",
    "    mean_revenue = payers[payers['character_id'].isin(group) & payers['revenue'] != 0]['revenue'].mean()\n",
    "    ARPPUs.append(mean_revenue)\n",
    "    print(mean_revenue, clusters.index[clusters == i].tolist()[0])"
   ]
  },
  {
   "cell_type": "code",
   "execution_count": 40,
   "id": "967f1b9f",
   "metadata": {},
   "outputs": [
    {
     "data": {
      "text/html": [
       "<div>\n",
       "<style scoped>\n",
       "    .dataframe tbody tr th:only-of-type {\n",
       "        vertical-align: middle;\n",
       "    }\n",
       "\n",
       "    .dataframe tbody tr th {\n",
       "        vertical-align: top;\n",
       "    }\n",
       "\n",
       "    .dataframe thead th {\n",
       "        text-align: right;\n",
       "    }\n",
       "</style>\n",
       "<table border=\"1\" class=\"dataframe\">\n",
       "  <thead>\n",
       "    <tr style=\"text-align: right;\">\n",
       "      <th></th>\n",
       "      <th>paying_share</th>\n",
       "      <th>ARPPU</th>\n",
       "    </tr>\n",
       "    <tr>\n",
       "      <th>name</th>\n",
       "      <th></th>\n",
       "      <th></th>\n",
       "    </tr>\n",
       "  </thead>\n",
       "  <tbody>\n",
       "    <tr>\n",
       "      <th>Empty</th>\n",
       "      <td>0.293956</td>\n",
       "      <td>53.151874</td>\n",
       "    </tr>\n",
       "    <tr>\n",
       "      <th>Active</th>\n",
       "      <td>0.341772</td>\n",
       "      <td>76.943509</td>\n",
       "    </tr>\n",
       "    <tr>\n",
       "      <th>Very Active</th>\n",
       "      <td>0.620690</td>\n",
       "      <td>78.591184</td>\n",
       "    </tr>\n",
       "    <tr>\n",
       "      <th>Inactive</th>\n",
       "      <td>0.359903</td>\n",
       "      <td>46.680194</td>\n",
       "    </tr>\n",
       "  </tbody>\n",
       "</table>\n",
       "</div>"
      ],
      "text/plain": [
       "             paying_share      ARPPU\n",
       "name                                \n",
       "Empty            0.293956  53.151874\n",
       "Active           0.341772  76.943509\n",
       "Very Active      0.620690  78.591184\n",
       "Inactive         0.359903  46.680194"
      ]
     },
     "execution_count": 40,
     "metadata": {},
     "output_type": "execute_result"
    }
   ],
   "source": [
    "pd.DataFrame({'paying_share': paying_shares, 'ARPPU': ARPPUs}, index = clusters.sort_values().index)"
   ]
  },
  {
   "cell_type": "markdown",
   "id": "8afa39d6",
   "metadata": {},
   "source": [
    "Видим, что у активной и очень активной групп средняя прибыль выше, чем у неактивных. Также у очень активной группы гораздо выше доля платящих."
   ]
  },
  {
   "cell_type": "markdown",
   "id": "e1e9bcdf",
   "metadata": {},
   "source": [
    "# Заключение"
   ]
  },
  {
   "cell_type": "markdown",
   "id": "a40431ee",
   "metadata": {},
   "source": [
    "### Гипотеза 1: большинство создаваемых гильдий не активны.  \n",
    "Гипотеза верна, неактивных гильдий намного больше, чем активных. Разбив гильдии на 4 группы с помощью кластеризации, получаем ~780 неактивных   гильдий против ~190 активных."
   ]
  },
  {
   "cell_type": "markdown",
   "id": "6215333d",
   "metadata": {},
   "source": [
    "### Гипотеза 2: игроки, покупающие премиум товары, создают более активные гильдии.\n",
    "Гипотезу невозможно подтвердить или опровергнуть на данном объёме       данных. Уровень статистической значимости близок (0.073) к порогу 5%.   Чтобы повысить мощность критерия и получить уверенный ответ, нужно       увеличить  выборку."
   ]
  },
  {
   "cell_type": "markdown",
   "id": "efe6dbb1",
   "metadata": {},
   "source": [
    "### Предложение: стоит ли существенно повысить стоимость создания гильдии\n",
    "Да, стоит. Опираясь на результаты проверки первой и второй гипотез, можно сказать, что стоимость создания гильдии стоит повысить. Меньше кол-во неактивных гильдий будет стимулировать игроков вступать в гильдии. Также можно  сделать гильдию премиум-товаром, так как по результатам проверки второй гипотезы доли платящих основателей гильдий либо не отличается, либо     отличается несущественно."
   ]
  }
 ],
 "metadata": {
  "kernelspec": {
   "display_name": "Python 3 (ipykernel)",
   "language": "python",
   "name": "python3"
  },
  "language_info": {
   "codemirror_mode": {
    "name": "ipython",
    "version": 3
   },
   "file_extension": ".py",
   "mimetype": "text/x-python",
   "name": "python",
   "nbconvert_exporter": "python",
   "pygments_lexer": "ipython3",
   "version": "3.7.12"
  }
 },
 "nbformat": 4,
 "nbformat_minor": 5
}
